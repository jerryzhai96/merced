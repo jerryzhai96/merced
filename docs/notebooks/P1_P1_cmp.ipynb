{
 "cells": [
  {
   "cell_type": "markdown",
   "metadata": {},
   "source": [
    "## Problem 1"
   ]
  },
  {
   "cell_type": "markdown",
   "metadata": {},
   "source": [
    "37.366886, -120.421543"
   ]
  },
  {
   "cell_type": "code",
   "execution_count": 1,
   "metadata": {},
   "outputs": [],
   "source": [
    "from ASCE7 import chap11 \n",
    "spectrum = chap11.Spectrum()"
   ]
  },
  {
   "cell_type": "code",
   "execution_count": 2,
   "metadata": {},
   "outputs": [],
   "source": [
    "spectrum.ss   = 0.472   # MCER ground motion (period=0.2s) \n",
    "spectrum.s1   = 0.291   # MCER ground motion (period=1.0s) \n",
    "spectrum.tl   = 8       # Long-period transition period (s) "
   ]
  },
  {
   "cell_type": "code",
   "execution_count": 3,
   "metadata": {},
   "outputs": [
    {
     "data": {
      "image/png": "[encoded data removed]",
      "text/plain": [
       "<Figure size 432x288 with 1 Axes>"
      ]
     },
     "metadata": {
      "needs_background": "light"
     },
     "output_type": "display_data"
    }
   ],
   "source": [
    "ax = spectrum.plot('MCER',domain=[0,2])"
   ]
  },
  {
   "cell_type": "code",
   "execution_count": null,
   "metadata": {},
   "outputs": [],
   "source": []
  },
  {
   "cell_type": "markdown",
   "metadata": {},
   "source": [
    "### b) $R$, $\\Omega_0$, $C_d$\n",
    "\n",
    "| |B.25. Steel buckling-restrained braced frames | C. 4. Steel ordinary moment frames |\n",
    "|----------|--------|-----------|\n",
    "|S  |                                  14.1 | 12.2.5.6 and 14.1 |\n",
    "|$R$  |                                     8 | 3.5 |\n",
    "| $\\Omega_0$|                           2.5 | 3 |\n",
    "| $C_d$|                                  5 | 3 |\n",
    "| $B $|                                    NL | NL |\n",
    "| $C $|                                    NL | NL |\n",
    "| $D^e$ |                                  160 | NPl |\n",
    "| $E^e$|                                   160 | NPl |\n",
    "| $F^f$|                                   100 | NPl |\n",
    " \n"
   ]
  },
  {
   "cell_type": "markdown",
   "metadata": {},
   "source": [
    "### d) Irregularities"
   ]
  },
  {
   "cell_type": "markdown",
   "metadata": {},
   "source": [
    "### f)\n",
    "The analysis procedure shall comply with one of the following:\n",
    "   1. Linear analysis subject to limitations specified in Section\n",
    "    7.3.1 and complying with the linear static procedure\n",
    "    (LSP) in accordance with Section 7.4.1 or the linear dynamic\n",
    "    procedure (LDP) in accordance with Section 7.4.2.\n",
    "   2. Nonlinear analysis subject to limitations specified in Section\n",
    "    7.3.2 and complying with the nonlinear static procedure\n",
    "    (NSP) in accordance with Section 7.4.3 or the nonlinear\n",
    "    dynamic procedure (NDP) in accordance with Section 7.4.4.\n",
    "   3. Alternative rational analysis in accordance with\n",
    "    Section 7.3.3."
   ]
  },
  {
   "cell_type": "code",
   "execution_count": null,
   "metadata": {},
   "outputs": [],
   "source": []
  }
 ],
 "metadata": {
  "kernelspec": {
   "display_name": "Python 3",
   "language": "python",
   "name": "python3"
  },
  "language_info": {
   "codemirror_mode": {
    "name": "ipython",
    "version": 3
   },
   "file_extension": ".py",
   "mimetype": "text/x-python",
   "name": "python",
   "nbconvert_exporter": "python",
   "pygments_lexer": "ipython3",
   "version": "3.7.4"
  }
 },
 "nbformat": 4,
 "nbformat_minor": 4
}
